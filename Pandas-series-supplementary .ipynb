{
 "cells": [
  {
   "cell_type": "markdown",
   "metadata": {},
   "source": [
    "\n",
    "# Some Important Series methods\n"
   ]
  },
  {
   "cell_type": "code",
   "execution_count": null,
   "metadata": {},
   "outputs": [],
   "source": [
    "import numpy as np\n",
    "import pandas as pd"
   ]
  },
  {
   "cell_type": "code",
   "execution_count": 3,
   "metadata": {},
   "outputs": [
    {
     "data": {
      "text/plain": [
       "0       48\n",
       "1       57\n",
       "2       40\n",
       "3       43\n",
       "4       44\n",
       "5       46\n",
       "6       33\n",
       "7       40\n",
       "8       44\n",
       "9       74\n",
       "10      49\n",
       "11      56\n",
       "12      49\n",
       "13      42\n",
       "14      39\n",
       "15      44\n",
       "16      54\n",
       "17      51\n",
       "18      40\n",
       "19      37\n",
       "20      40\n",
       "21      45\n",
       "22      50\n",
       "23      56\n",
       "24      35\n",
       "25      49\n",
       "26      46\n",
       "27      88\n",
       "28      61\n",
       "29      42\n",
       "      ... \n",
       "335    188\n",
       "336    176\n",
       "337    221\n",
       "338    225\n",
       "339    221\n",
       "340    202\n",
       "341    171\n",
       "342    185\n",
       "343    184\n",
       "344    276\n",
       "345    258\n",
       "346    219\n",
       "347    212\n",
       "348    192\n",
       "349    164\n",
       "350    192\n",
       "351    220\n",
       "352    196\n",
       "353    197\n",
       "354    204\n",
       "355    149\n",
       "356    156\n",
       "357    177\n",
       "358    210\n",
       "359    209\n",
       "360    231\n",
       "361    226\n",
       "362    155\n",
       "363    144\n",
       "364    172\n",
       "Name: Subscribers gained, Length: 365, dtype: int64"
      ]
     },
     "execution_count": 3,
     "metadata": {},
     "output_type": "execute_result"
    }
   ],
   "source": [
    "subs = pd.read_csv('./subs.csv', squeeze=True)\n",
    "subs"
   ]
  },
  {
   "cell_type": "code",
   "execution_count": 4,
   "metadata": {},
   "outputs": [
    {
     "data": {
      "text/plain": [
       "match_no\n",
       "1       1\n",
       "2      23\n",
       "3      13\n",
       "4      12\n",
       "5       1\n",
       "6       9\n",
       "7      34\n",
       "8       0\n",
       "9      21\n",
       "10      3\n",
       "11     10\n",
       "12     38\n",
       "13      3\n",
       "14     11\n",
       "15     50\n",
       "16      2\n",
       "17     22\n",
       "18     19\n",
       "19     16\n",
       "20     15\n",
       "21     20\n",
       "22     38\n",
       "23     19\n",
       "24     24\n",
       "25      7\n",
       "26      2\n",
       "27     16\n",
       "28     17\n",
       "29     24\n",
       "30     38\n",
       "       ..\n",
       "186    33\n",
       "187     5\n",
       "188    72\n",
       "189     8\n",
       "190    12\n",
       "191    35\n",
       "192     5\n",
       "193    25\n",
       "194     5\n",
       "195     4\n",
       "196    25\n",
       "197    51\n",
       "198    53\n",
       "199    39\n",
       "200    41\n",
       "201    12\n",
       "202     5\n",
       "203    48\n",
       "204     1\n",
       "205    12\n",
       "206     0\n",
       "207     0\n",
       "208     9\n",
       "209    58\n",
       "210    30\n",
       "211     0\n",
       "212    20\n",
       "213    73\n",
       "214    25\n",
       "215     7\n",
       "Name: runs, Length: 215, dtype: int64"
      ]
     },
     "execution_count": 4,
     "metadata": {},
     "output_type": "execute_result"
    }
   ],
   "source": [
    "vk = pd.read_csv('./kohli_ipl.csv', index_col = 'match_no', squeeze = True)\n",
    "vk"
   ]
  },
  {
   "cell_type": "code",
   "execution_count": 5,
   "metadata": {},
   "outputs": [
    {
     "data": {
      "text/plain": [
       "movie\n",
       "Uri: The Surgical Strike                       Vicky Kaushal\n",
       "Battalion 609                                    Vicky Ahuja\n",
       "The Accidental Prime Minister (film)             Anupam Kher\n",
       "Why Cheat India                                Emraan Hashmi\n",
       "Evening Shadows                             Mona Ambegaonkar\n",
       "Soni (film)                             Geetika Vidya Ohlyan\n",
       "Fraud Saiyaan                                   Arshad Warsi\n",
       "Bombairiya                                      Radhika Apte\n",
       "Manikarnika: The Queen of Jhansi              Kangana Ranaut\n",
       "Thackeray (film)                         Nawazuddin Siddiqui\n",
       "Amavas                                             Ali Asgar\n",
       "Gully Boy                                      Ranveer Singh\n",
       "Hum Chaar                                        Prit Kamani\n",
       "Total Dhamaal                                     Ajay Devgn\n",
       "Sonchiriya                              Sushant Singh Rajput\n",
       "Badla (2019 film)                           Amitabh Bachchan\n",
       "Mard Ko Dard Nahi Hota                      Abhimanyu Dasani\n",
       "Hamid (film)                              Talha Arshad Reshi\n",
       "Photograph (film)                        Nawazuddin Siddiqui\n",
       "Risknamaa                                     Garima Agarwal\n",
       "Mere Pyare Prime Minister                      Rasika Agashe\n",
       "22 Yards                                         Barun Sobti\n",
       "Kesari (film)                                   Akshay Kumar\n",
       "Notebook (2019 film)                            Zaheer Iqbal\n",
       "Junglee (2019 film)                           Vidyut Jammwal\n",
       "Gone Kesh                                       Deepika Amin\n",
       "Albert Pinto Ko Gussa Kyun Aata Hai?              Manav Kaul\n",
       "The Tashkent Files                          Naseeruddin Shah\n",
       "Kalank                                          Varun Dhawan\n",
       "Setters (film)                               Shreyas Talpade\n",
       "                                                ...         \n",
       "Pinjar (film)                               Urmila Matondkar\n",
       "Mumbai Se Aaya Mera Dost                   Abhishek Bachchan\n",
       "Saaya (2003 film)                               John Abraham\n",
       "Samay: When Time Strikes                        Sushmita Sen\n",
       "Nayee Padosan                                 Vikas Kalantri\n",
       "Satta (film)                                  Raveena Tandon\n",
       "Sssshhh...                                  Tanishaa Mukerji\n",
       "Praan Jaye Par Shaan Na Jaye                  Raveena Tandon\n",
       "Raghu Romeo                                       Vijay Raaz\n",
       "Stumped (film)                                Raveena Tandon\n",
       "Rules: Pyaar Ka Superhit Formula                      Tanuja\n",
       "Right Here Right Now (film)                            Ankit\n",
       "Raja Bhaiya (film)                       Sadashiv Amrapurkar\n",
       "Tere Naam                                        Salman Khan\n",
       "Tujhe Meri Kasam                            Riteish Deshmukh\n",
       "Talaash: The Hunt Begins...                    Rakhee Gulzar\n",
       "Tehzeeb (2003 film)                             Shabana Azmi\n",
       "The Pink Mirror                              Edwin Fernandes\n",
       "Yeh Dil                                       Tusshar Kapoor\n",
       "Xcuse Me                                       Sharman Joshi\n",
       "Raaz (2002 film)                                  Dino Morea\n",
       "Zameen (2003 film)                                Ajay Devgn\n",
       "Waisa Bhi Hota Hai Part II                      Arshad Warsi\n",
       "Devdas (2002 Hindi film)                      Shah Rukh Khan\n",
       "Kaante                                      Amitabh Bachchan\n",
       "Hum Tumhare Hain Sanam                        Shah Rukh Khan\n",
       "Aankhen (2002 film)                         Amitabh Bachchan\n",
       "Saathiya (film)                                 Vivek Oberoi\n",
       "Company (film)                                    Ajay Devgn\n",
       "Awara Paagal Deewana                            Akshay Kumar\n",
       "Name: lead, Length: 1500, dtype: object"
      ]
     },
     "execution_count": 5,
     "metadata": {},
     "output_type": "execute_result"
    }
   ],
   "source": [
    "movies = pd.read_csv('./bollywood.csv', index_col='movie', squeeze = True)\n",
    "movies"
   ]
  },
  {
   "cell_type": "code",
   "execution_count": 6,
   "metadata": {},
   "outputs": [
    {
     "data": {
      "text/plain": [
       "3464"
      ]
     },
     "execution_count": 6,
     "metadata": {},
     "output_type": "execute_result"
    }
   ],
   "source": [
    "import sys\n",
    "sys.getsizeof(vk)"
   ]
  },
  {
   "cell_type": "code",
   "execution_count": 8,
   "metadata": {
    "scrolled": true
   },
   "outputs": [
    {
     "data": {
      "text/plain": [
       "2174"
      ]
     },
     "execution_count": 8,
     "metadata": {},
     "output_type": "execute_result"
    }
   ],
   "source": [
    "sys.getsizeof(vk.astype('int16'))"
   ]
  },
  {
   "cell_type": "code",
   "execution_count": 11,
   "metadata": {},
   "outputs": [
    {
     "data": {
      "text/plain": [
       "43"
      ]
     },
     "execution_count": 11,
     "metadata": {},
     "output_type": "execute_result"
    }
   ],
   "source": [
    "#between\n",
    "vk[vk.between(51,99)].size"
   ]
  },
  {
   "cell_type": "code",
   "execution_count": 13,
   "metadata": {},
   "outputs": [
    {
     "data": {
      "text/plain": [
       "0      100\n",
       "1      100\n",
       "2      100\n",
       "3      100\n",
       "4      100\n",
       "5      100\n",
       "6      100\n",
       "7      100\n",
       "8      100\n",
       "9      100\n",
       "10     100\n",
       "11     100\n",
       "12     100\n",
       "13     100\n",
       "14     100\n",
       "15     100\n",
       "16     100\n",
       "17     100\n",
       "18     100\n",
       "19     100\n",
       "20     100\n",
       "21     100\n",
       "22     100\n",
       "23     100\n",
       "24     100\n",
       "25     100\n",
       "26     100\n",
       "27     100\n",
       "28     100\n",
       "29     100\n",
       "      ... \n",
       "335    188\n",
       "336    176\n",
       "337    200\n",
       "338    200\n",
       "339    200\n",
       "340    200\n",
       "341    171\n",
       "342    185\n",
       "343    184\n",
       "344    200\n",
       "345    200\n",
       "346    200\n",
       "347    200\n",
       "348    192\n",
       "349    164\n",
       "350    192\n",
       "351    200\n",
       "352    196\n",
       "353    197\n",
       "354    200\n",
       "355    149\n",
       "356    156\n",
       "357    177\n",
       "358    200\n",
       "359    200\n",
       "360    200\n",
       "361    200\n",
       "362    155\n",
       "363    144\n",
       "364    172\n",
       "Name: Subscribers gained, Length: 365, dtype: int64"
      ]
     },
     "execution_count": 13,
     "metadata": {},
     "output_type": "execute_result"
    }
   ],
   "source": [
    "#clip\n",
    "subs.clip(100,200)"
   ]
  },
  {
   "cell_type": "code",
   "execution_count": 15,
   "metadata": {},
   "outputs": [],
   "source": [
    "# drop_duplicates\n",
    "temp = pd.Series([1,2,3,4,5,5,5,6])"
   ]
  },
  {
   "cell_type": "code",
   "execution_count": 22,
   "metadata": {},
   "outputs": [
    {
     "data": {
      "text/plain": [
       "0    1\n",
       "1    2\n",
       "2    3\n",
       "3    4\n",
       "4    5\n",
       "7    6\n",
       "dtype: int64"
      ]
     },
     "execution_count": 22,
     "metadata": {},
     "output_type": "execute_result"
    }
   ],
   "source": [
    "temp.drop_duplicates()"
   ]
  },
  {
   "cell_type": "code",
   "execution_count": 23,
   "metadata": {},
   "outputs": [
    {
     "data": {
      "text/plain": [
       "movie\n",
       "Uri: The Surgical Strike                                 Vicky Kaushal\n",
       "Battalion 609                                              Vicky Ahuja\n",
       "The Accidental Prime Minister (film)                       Anupam Kher\n",
       "Why Cheat India                                          Emraan Hashmi\n",
       "Evening Shadows                                       Mona Ambegaonkar\n",
       "Soni (film)                                       Geetika Vidya Ohlyan\n",
       "Fraud Saiyaan                                             Arshad Warsi\n",
       "Bombairiya                                                Radhika Apte\n",
       "Manikarnika: The Queen of Jhansi                        Kangana Ranaut\n",
       "Thackeray (film)                                   Nawazuddin Siddiqui\n",
       "Amavas                                                       Ali Asgar\n",
       "Gully Boy                                                Ranveer Singh\n",
       "Hum Chaar                                                  Prit Kamani\n",
       "Total Dhamaal                                               Ajay Devgn\n",
       "Sonchiriya                                        Sushant Singh Rajput\n",
       "Badla (2019 film)                                     Amitabh Bachchan\n",
       "Mard Ko Dard Nahi Hota                                Abhimanyu Dasani\n",
       "Hamid (film)                                        Talha Arshad Reshi\n",
       "Risknamaa                                               Garima Agarwal\n",
       "Mere Pyare Prime Minister                                Rasika Agashe\n",
       "22 Yards                                                   Barun Sobti\n",
       "Kesari (film)                                             Akshay Kumar\n",
       "Notebook (2019 film)                                      Zaheer Iqbal\n",
       "Junglee (2019 film)                                     Vidyut Jammwal\n",
       "Gone Kesh                                                 Deepika Amin\n",
       "Albert Pinto Ko Gussa Kyun Aata Hai?                        Manav Kaul\n",
       "The Tashkent Files                                    Naseeruddin Shah\n",
       "Kalank                                                    Varun Dhawan\n",
       "Setters (film)                                         Shreyas Talpade\n",
       "Student of the Year 2                                     Tiger Shroff\n",
       "                                                          ...         \n",
       "Netaji Subhas Chandra Bose: The Forgotten Hero             Vinay Anand\n",
       "Sheen (film)                                               Tarun Arora\n",
       "Dude Where's the Party?                                 Diwakar Pathak\n",
       "Thoda Tum Badlo Thoda Hum                                  Arya Babbar\n",
       "Aanch                                                      Arun Bakshi\n",
       "Aaj Ka Andha Kanoon                                       Sudesh Berry\n",
       "Basti (film)                                       Sadashiv Amrapurkar\n",
       "Magic Magic 3D                                           Sooraj Balaji\n",
       "Darna Mana Hai                                           Sameera Reddy\n",
       "Dhund (2003 film)                                       Amar Upadhyaya\n",
       "Dil Pardesi Ho Gayaa                                     Kapil Jhaveri\n",
       "Ek Alag Mausam                                             Nandita Das\n",
       "Green Card Fever                                           Vikram Dasu\n",
       "Flavors (film)                                              Reef Karim\n",
       "Indian Babu                                                Jaz Pandher\n",
       "Fun2shh... Dudes in the 10th Century                     Rushali Arora\n",
       "Hawayein                                                    Babbu Mann\n",
       "Jajantaram Mamantaram                                    Javed Jaffrey\n",
       "Kash Aap Hamare Hote                                       Juhi Babbar\n",
       "Janasheen                                                   Feroz Khan\n",
       "Kaise Kahoon Ke... Pyaar Hai                            Amit Hingorani\n",
       "Khwahish                                                Himanshu Malik\n",
       "Om (2003 film)                                            Attin Bhalla\n",
       "Matrubhoomi                                                Tulip Joshi\n",
       "Nayee Padosan                                           Vikas Kalantri\n",
       "Sssshhh...                                            Tanishaa Mukerji\n",
       "Rules: Pyaar Ka Superhit Formula                                Tanuja\n",
       "Right Here Right Now (film)                                      Ankit\n",
       "Talaash: The Hunt Begins...                              Rakhee Gulzar\n",
       "The Pink Mirror                                        Edwin Fernandes\n",
       "Name: lead, Length: 566, dtype: object"
      ]
     },
     "execution_count": 23,
     "metadata": {},
     "output_type": "execute_result"
    }
   ],
   "source": [
    "movies.drop_duplicates()"
   ]
  },
  {
   "cell_type": "code",
   "execution_count": 25,
   "metadata": {},
   "outputs": [
    {
     "data": {
      "text/plain": [
       "2"
      ]
     },
     "execution_count": 25,
     "metadata": {},
     "output_type": "execute_result"
    }
   ],
   "source": [
    "temp.duplicated().sum()"
   ]
  },
  {
   "cell_type": "code",
   "execution_count": 27,
   "metadata": {},
   "outputs": [
    {
     "data": {
      "text/plain": [
       "0    1.0\n",
       "1    2.0\n",
       "2    3.0\n",
       "3    4.0\n",
       "4    NaN\n",
       "5    6.0\n",
       "6    7.0\n",
       "7    NaN\n",
       "8    NaN\n",
       "dtype: float64"
      ]
     },
     "execution_count": 27,
     "metadata": {},
     "output_type": "execute_result"
    }
   ],
   "source": [
    "# isnull\n",
    "temp = pd.Series([1,2,3,4,np.nan,6,7,np.nan,np.nan])\n",
    "temp"
   ]
  },
  {
   "cell_type": "code",
   "execution_count": 34,
   "metadata": {},
   "outputs": [
    {
     "data": {
      "text/plain": [
       "3"
      ]
     },
     "execution_count": 34,
     "metadata": {},
     "output_type": "execute_result"
    }
   ],
   "source": [
    "temp.isnull().sum()"
   ]
  },
  {
   "cell_type": "code",
   "execution_count": 36,
   "metadata": {},
   "outputs": [
    {
     "data": {
      "text/plain": [
       "0    1.0\n",
       "1    2.0\n",
       "2    3.0\n",
       "3    4.0\n",
       "5    6.0\n",
       "6    7.0\n",
       "dtype: float64"
      ]
     },
     "execution_count": 36,
     "metadata": {},
     "output_type": "execute_result"
    }
   ],
   "source": [
    "# dropna (removes all missing values in one go)\n",
    "temp.dropna()"
   ]
  },
  {
   "cell_type": "code",
   "execution_count": 38,
   "metadata": {},
   "outputs": [
    {
     "data": {
      "text/plain": [
       "0    1.000000\n",
       "1    2.000000\n",
       "2    3.000000\n",
       "3    4.000000\n",
       "4    3.833333\n",
       "5    6.000000\n",
       "6    7.000000\n",
       "7    3.833333\n",
       "8    3.833333\n",
       "dtype: float64"
      ]
     },
     "execution_count": 38,
     "metadata": {},
     "output_type": "execute_result"
    }
   ],
   "source": [
    "# fillna (to fill na values)\n",
    "temp.fillna(0) # nan will be replaced by 0 or anything you'd provide\n",
    "temp.fillna(temp.mean())"
   ]
  },
  {
   "cell_type": "code",
   "execution_count": 41,
   "metadata": {},
   "outputs": [
    {
     "data": {
      "text/plain": [
       "match_no\n",
       "82    99\n",
       "86    49\n",
       "Name: runs, dtype: int64"
      ]
     },
     "execution_count": 41,
     "metadata": {},
     "output_type": "execute_result"
    }
   ],
   "source": [
    "# isin\n",
    "vk[(vk == 49) | (vk == 99)]"
   ]
  },
  {
   "cell_type": "code",
   "execution_count": 43,
   "metadata": {},
   "outputs": [
    {
     "data": {
      "text/plain": [
       "match_no\n",
       "82    99\n",
       "86    49\n",
       "Name: runs, dtype: int64"
      ]
     },
     "execution_count": 43,
     "metadata": {},
     "output_type": "execute_result"
    }
   ],
   "source": [
    "vk[vk.isin([49,99,89])]"
   ]
  },
  {
   "cell_type": "code",
   "execution_count": 44,
   "metadata": {},
   "outputs": [
    {
     "data": {
      "text/plain": [
       "movie\n",
       "Uri: The Surgical Strike                       Vicky Kaushal\n",
       "Battalion 609                                    Vicky Ahuja\n",
       "The Accidental Prime Minister (film)             Anupam Kher\n",
       "Why Cheat India                                Emraan Hashmi\n",
       "Evening Shadows                             Mona Ambegaonkar\n",
       "Soni (film)                             Geetika Vidya Ohlyan\n",
       "Fraud Saiyaan                                   Arshad Warsi\n",
       "Bombairiya                                      Radhika Apte\n",
       "Manikarnika: The Queen of Jhansi              Kangana Ranaut\n",
       "Thackeray (film)                         Nawazuddin Siddiqui\n",
       "Amavas                                             Ali Asgar\n",
       "Gully Boy                                      Ranveer Singh\n",
       "Hum Chaar                                        Prit Kamani\n",
       "Total Dhamaal                                     Ajay Devgn\n",
       "Sonchiriya                              Sushant Singh Rajput\n",
       "Badla (2019 film)                           Amitabh Bachchan\n",
       "Mard Ko Dard Nahi Hota                      Abhimanyu Dasani\n",
       "Hamid (film)                              Talha Arshad Reshi\n",
       "Photograph (film)                        Nawazuddin Siddiqui\n",
       "Risknamaa                                     Garima Agarwal\n",
       "Mere Pyare Prime Minister                      Rasika Agashe\n",
       "22 Yards                                         Barun Sobti\n",
       "Kesari (film)                                   Akshay Kumar\n",
       "Notebook (2019 film)                            Zaheer Iqbal\n",
       "Junglee (2019 film)                           Vidyut Jammwal\n",
       "Gone Kesh                                       Deepika Amin\n",
       "Albert Pinto Ko Gussa Kyun Aata Hai?              Manav Kaul\n",
       "The Tashkent Files                          Naseeruddin Shah\n",
       "Kalank                                          Varun Dhawan\n",
       "Setters (film)                               Shreyas Talpade\n",
       "                                                ...         \n",
       "Pinjar (film)                               Urmila Matondkar\n",
       "Mumbai Se Aaya Mera Dost                   Abhishek Bachchan\n",
       "Saaya (2003 film)                               John Abraham\n",
       "Samay: When Time Strikes                        Sushmita Sen\n",
       "Nayee Padosan                                 Vikas Kalantri\n",
       "Satta (film)                                  Raveena Tandon\n",
       "Sssshhh...                                  Tanishaa Mukerji\n",
       "Praan Jaye Par Shaan Na Jaye                  Raveena Tandon\n",
       "Raghu Romeo                                       Vijay Raaz\n",
       "Stumped (film)                                Raveena Tandon\n",
       "Rules: Pyaar Ka Superhit Formula                      Tanuja\n",
       "Right Here Right Now (film)                            Ankit\n",
       "Raja Bhaiya (film)                       Sadashiv Amrapurkar\n",
       "Tere Naam                                        Salman Khan\n",
       "Tujhe Meri Kasam                            Riteish Deshmukh\n",
       "Talaash: The Hunt Begins...                    Rakhee Gulzar\n",
       "Tehzeeb (2003 film)                             Shabana Azmi\n",
       "The Pink Mirror                              Edwin Fernandes\n",
       "Yeh Dil                                       Tusshar Kapoor\n",
       "Xcuse Me                                       Sharman Joshi\n",
       "Raaz (2002 film)                                  Dino Morea\n",
       "Zameen (2003 film)                                Ajay Devgn\n",
       "Waisa Bhi Hota Hai Part II                      Arshad Warsi\n",
       "Devdas (2002 Hindi film)                      Shah Rukh Khan\n",
       "Kaante                                      Amitabh Bachchan\n",
       "Hum Tumhare Hain Sanam                        Shah Rukh Khan\n",
       "Aankhen (2002 film)                         Amitabh Bachchan\n",
       "Saathiya (film)                                 Vivek Oberoi\n",
       "Company (film)                                    Ajay Devgn\n",
       "Awara Paagal Deewana                            Akshay Kumar\n",
       "Name: lead, Length: 1500, dtype: object"
      ]
     },
     "execution_count": 44,
     "metadata": {},
     "output_type": "execute_result"
    }
   ],
   "source": [
    "# apply\n",
    "movies"
   ]
  },
  {
   "cell_type": "code",
   "execution_count": 47,
   "metadata": {},
   "outputs": [
    {
     "data": {
      "text/plain": [
       "movie\n",
       "Uri: The Surgical Strike                      VICKY\n",
       "Battalion 609                                 VICKY\n",
       "The Accidental Prime Minister (film)         ANUPAM\n",
       "Why Cheat India                              EMRAAN\n",
       "Evening Shadows                                MONA\n",
       "Soni (film)                                 GEETIKA\n",
       "Fraud Saiyaan                                ARSHAD\n",
       "Bombairiya                                  RADHIKA\n",
       "Manikarnika: The Queen of Jhansi            KANGANA\n",
       "Thackeray (film)                         NAWAZUDDIN\n",
       "Amavas                                          ALI\n",
       "Gully Boy                                   RANVEER\n",
       "Hum Chaar                                      PRIT\n",
       "Total Dhamaal                                  AJAY\n",
       "Sonchiriya                                  SUSHANT\n",
       "Badla (2019 film)                           AMITABH\n",
       "Mard Ko Dard Nahi Hota                    ABHIMANYU\n",
       "Hamid (film)                                  TALHA\n",
       "Photograph (film)                        NAWAZUDDIN\n",
       "Risknamaa                                    GARIMA\n",
       "Mere Pyare Prime Minister                    RASIKA\n",
       "22 Yards                                      BARUN\n",
       "Kesari (film)                                AKSHAY\n",
       "Notebook (2019 film)                         ZAHEER\n",
       "Junglee (2019 film)                          VIDYUT\n",
       "Gone Kesh                                   DEEPIKA\n",
       "Albert Pinto Ko Gussa Kyun Aata Hai?          MANAV\n",
       "The Tashkent Files                      NASEERUDDIN\n",
       "Kalank                                        VARUN\n",
       "Setters (film)                              SHREYAS\n",
       "                                           ...     \n",
       "Pinjar (film)                                URMILA\n",
       "Mumbai Se Aaya Mera Dost                   ABHISHEK\n",
       "Saaya (2003 film)                              JOHN\n",
       "Samay: When Time Strikes                   SUSHMITA\n",
       "Nayee Padosan                                 VIKAS\n",
       "Satta (film)                                RAVEENA\n",
       "Sssshhh...                                 TANISHAA\n",
       "Praan Jaye Par Shaan Na Jaye                RAVEENA\n",
       "Raghu Romeo                                   VIJAY\n",
       "Stumped (film)                              RAVEENA\n",
       "Rules: Pyaar Ka Superhit Formula             TANUJA\n",
       "Right Here Right Now (film)                   ANKIT\n",
       "Raja Bhaiya (film)                         SADASHIV\n",
       "Tere Naam                                    SALMAN\n",
       "Tujhe Meri Kasam                            RITEISH\n",
       "Talaash: The Hunt Begins...                  RAKHEE\n",
       "Tehzeeb (2003 film)                         SHABANA\n",
       "The Pink Mirror                               EDWIN\n",
       "Yeh Dil                                     TUSSHAR\n",
       "Xcuse Me                                    SHARMAN\n",
       "Raaz (2002 film)                               DINO\n",
       "Zameen (2003 film)                             AJAY\n",
       "Waisa Bhi Hota Hai Part II                   ARSHAD\n",
       "Devdas (2002 Hindi film)                       SHAH\n",
       "Kaante                                      AMITABH\n",
       "Hum Tumhare Hain Sanam                         SHAH\n",
       "Aankhen (2002 film)                         AMITABH\n",
       "Saathiya (film)                               VIVEK\n",
       "Company (film)                                 AJAY\n",
       "Awara Paagal Deewana                         AKSHAY\n",
       "Name: lead, Length: 1500, dtype: object"
      ]
     },
     "execution_count": 47,
     "metadata": {},
     "output_type": "execute_result"
    }
   ],
   "source": [
    "movies.apply(lambda x:x.split()[0].upper())"
   ]
  },
  {
   "cell_type": "code",
   "execution_count": 48,
   "metadata": {},
   "outputs": [
    {
     "data": {
      "text/plain": [
       "135.64383561643837"
      ]
     },
     "execution_count": 48,
     "metadata": {},
     "output_type": "execute_result"
    }
   ],
   "source": [
    "subs.mean()"
   ]
  },
  {
   "cell_type": "code",
   "execution_count": 49,
   "metadata": {},
   "outputs": [
    {
     "data": {
      "text/plain": [
       "0       bad day\n",
       "1       bad day\n",
       "2       bad day\n",
       "3       bad day\n",
       "4       bad day\n",
       "5       bad day\n",
       "6       bad day\n",
       "7       bad day\n",
       "8       bad day\n",
       "9       bad day\n",
       "10      bad day\n",
       "11      bad day\n",
       "12      bad day\n",
       "13      bad day\n",
       "14      bad day\n",
       "15      bad day\n",
       "16      bad day\n",
       "17      bad day\n",
       "18      bad day\n",
       "19      bad day\n",
       "20      bad day\n",
       "21      bad day\n",
       "22      bad day\n",
       "23      bad day\n",
       "24      bad day\n",
       "25      bad day\n",
       "26      bad day\n",
       "27      bad day\n",
       "28      bad day\n",
       "29      bad day\n",
       "         ...   \n",
       "335    good day\n",
       "336    good day\n",
       "337    good day\n",
       "338    good day\n",
       "339    good day\n",
       "340    good day\n",
       "341    good day\n",
       "342    good day\n",
       "343    good day\n",
       "344    good day\n",
       "345    good day\n",
       "346    good day\n",
       "347    good day\n",
       "348    good day\n",
       "349    good day\n",
       "350    good day\n",
       "351    good day\n",
       "352    good day\n",
       "353    good day\n",
       "354    good day\n",
       "355    good day\n",
       "356    good day\n",
       "357    good day\n",
       "358    good day\n",
       "359    good day\n",
       "360    good day\n",
       "361    good day\n",
       "362    good day\n",
       "363    good day\n",
       "364    good day\n",
       "Name: Subscribers gained, Length: 365, dtype: object"
      ]
     },
     "execution_count": 49,
     "metadata": {},
     "output_type": "execute_result"
    }
   ],
   "source": [
    "subs.apply(lambda x:'good day' if x > subs.mean() else 'bad day')"
   ]
  },
  {
   "cell_type": "code",
   "execution_count": 52,
   "metadata": {},
   "outputs": [
    {
     "data": {
      "text/plain": [
       "match_no\n",
       "1     1\n",
       "2    23\n",
       "3    13\n",
       "4    12\n",
       "5     1\n",
       "Name: runs, dtype: int64"
      ]
     },
     "execution_count": 52,
     "metadata": {},
     "output_type": "execute_result"
    }
   ],
   "source": [
    "# copy\n",
    "new = vk.head().copy()\n",
    "new"
   ]
  },
  {
   "cell_type": "code",
   "execution_count": 54,
   "metadata": {},
   "outputs": [
    {
     "data": {
      "text/plain": [
       "match_no\n",
       "1    100\n",
       "2     23\n",
       "3     13\n",
       "4     12\n",
       "5      1\n",
       "Name: runs, dtype: int64"
      ]
     },
     "execution_count": 54,
     "metadata": {},
     "output_type": "execute_result"
    }
   ],
   "source": [
    "new[1] = 100\n",
    "new"
   ]
  },
  {
   "cell_type": "code",
   "execution_count": 55,
   "metadata": {},
   "outputs": [
    {
     "data": {
      "text/plain": [
       "match_no\n",
       "1     1\n",
       "2    23\n",
       "3    13\n",
       "4    12\n",
       "5     1\n",
       "Name: runs, dtype: int64"
      ]
     },
     "execution_count": 55,
     "metadata": {},
     "output_type": "execute_result"
    }
   ],
   "source": [
    "vk.head()"
   ]
  },
  {
   "cell_type": "code",
   "execution_count": null,
   "metadata": {},
   "outputs": [],
   "source": []
  }
 ],
 "metadata": {
  "kernelspec": {
   "display_name": "Python 3",
   "language": "python",
   "name": "python3"
  },
  "language_info": {
   "codemirror_mode": {
    "name": "ipython",
    "version": 3
   },
   "file_extension": ".py",
   "mimetype": "text/x-python",
   "name": "python",
   "nbconvert_exporter": "python",
   "pygments_lexer": "ipython3",
   "version": "3.7.0"
  }
 },
 "nbformat": 4,
 "nbformat_minor": 2
}
