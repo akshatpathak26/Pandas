{
 "cells": [
  {
   "cell_type": "code",
   "execution_count": 2,
   "metadata": {},
   "outputs": [],
   "source": [
    "import numpy as np\n",
    "import pandas as pd"
   ]
  },
  {
   "cell_type": "code",
   "execution_count": 4,
   "metadata": {},
   "outputs": [
    {
     "data": {
      "text/plain": [
       "0       India\n",
       "1         pak\n",
       "2         usa\n",
       "3       Italy\n",
       "4    srilanks\n",
       "dtype: object"
      ]
     },
     "execution_count": 4,
     "metadata": {},
     "output_type": "execute_result"
    }
   ],
   "source": [
    "# string\n",
    "\n",
    "country = ['India', 'pak', 'usa', 'Italy', 'srilanks']\n",
    "\n",
    "pd.Series(country)"
   ]
  },
  {
   "cell_type": "code",
   "execution_count": 21,
   "metadata": {},
   "outputs": [],
   "source": [
    "# integers\n",
    "runs = [13, 24, 56, 78, 100]\n",
    "runs_ser = pd.Series(runs)"
   ]
  },
  {
   "cell_type": "code",
   "execution_count": 9,
   "metadata": {},
   "outputs": [
    {
     "data": {
      "text/plain": [
       "maths       67\n",
       "english     57\n",
       "science     89\n",
       "hindi      100\n",
       "Name: Akshat ke marks, dtype: int64"
      ]
     },
     "execution_count": 9,
     "metadata": {},
     "output_type": "execute_result"
    }
   ],
   "source": [
    "# Custom indexing \n",
    "\n",
    "marks = [67, 57, 89, 100]\n",
    "subjects = ['maths', 'english', 'science', 'hindi']\n",
    "\n",
    "pd.Series(marks, index = subjects, name = 'Akshat ke marks')"
   ]
  },
  {
   "cell_type": "code",
   "execution_count": 13,
   "metadata": {},
   "outputs": [
    {
     "data": {
      "text/plain": [
       "maths      67\n",
       "science    99\n",
       "hindi      55\n",
       "stats      88\n",
       "Name: Akshat k marks, dtype: int64"
      ]
     },
     "execution_count": 13,
     "metadata": {},
     "output_type": "execute_result"
    }
   ],
   "source": [
    "# Series from dict\n",
    "\n",
    "marks = {\n",
    "    'maths': 67,\n",
    "    'science': 99,\n",
    "    'hindi': 55,\n",
    "    'stats': 88\n",
    "}\n",
    "\n",
    "marks_series = pd.Series(marks, name=\"Akshat k marks\")\n",
    "marks_series"
   ]
  },
  {
   "cell_type": "code",
   "execution_count": 16,
   "metadata": {},
   "outputs": [
    {
     "data": {
      "text/plain": [
       "4"
      ]
     },
     "execution_count": 16,
     "metadata": {},
     "output_type": "execute_result"
    }
   ],
   "source": [
    "# size\n",
    "marks_series.size"
   ]
  },
  {
   "cell_type": "code",
   "execution_count": 17,
   "metadata": {},
   "outputs": [
    {
     "data": {
      "text/plain": [
       "dtype('int64')"
      ]
     },
     "execution_count": 17,
     "metadata": {},
     "output_type": "execute_result"
    }
   ],
   "source": [
    "# dtype\n",
    "marks_series.dtype"
   ]
  },
  {
   "cell_type": "code",
   "execution_count": 18,
   "metadata": {},
   "outputs": [
    {
     "data": {
      "text/plain": [
       "'Akshat k marks'"
      ]
     },
     "execution_count": 18,
     "metadata": {},
     "output_type": "execute_result"
    }
   ],
   "source": [
    "# name of the series\n",
    "marks_series.name"
   ]
  },
  {
   "cell_type": "code",
   "execution_count": 20,
   "metadata": {},
   "outputs": [
    {
     "data": {
      "text/plain": [
       "False"
      ]
     },
     "execution_count": 20,
     "metadata": {},
     "output_type": "execute_result"
    }
   ],
   "source": [
    "# is_unique\n",
    "\n",
    "pd.Series([1,2,3,4,5,5]).is_unique"
   ]
  },
  {
   "cell_type": "code",
   "execution_count": 24,
   "metadata": {},
   "outputs": [
    {
     "data": {
      "text/plain": [
       "Index(['maths', 'science', 'hindi', 'stats'], dtype='object')"
      ]
     },
     "execution_count": 24,
     "metadata": {},
     "output_type": "execute_result"
    }
   ],
   "source": [
    "# index\n",
    "marks_series.index"
   ]
  },
  {
   "cell_type": "code",
   "execution_count": 26,
   "metadata": {},
   "outputs": [
    {
     "data": {
      "text/plain": [
       "numpy.ndarray"
      ]
     },
     "execution_count": 26,
     "metadata": {},
     "output_type": "execute_result"
    }
   ],
   "source": [
    "# Values\n",
    "marks_series.values\n",
    "type(marks_series.values)"
   ]
  },
  {
   "cell_type": "markdown",
   "metadata": {},
   "source": [
    "# Series using read_csv"
   ]
  },
  {
   "cell_type": "code",
   "execution_count": 38,
   "metadata": {},
   "outputs": [
    {
     "data": {
      "text/plain": [
       "0       48\n",
       "1       57\n",
       "2       40\n",
       "3       43\n",
       "4       44\n",
       "5       46\n",
       "6       33\n",
       "7       40\n",
       "8       44\n",
       "9       74\n",
       "10      49\n",
       "11      56\n",
       "12      49\n",
       "13      42\n",
       "14      39\n",
       "15      44\n",
       "16      54\n",
       "17      51\n",
       "18      40\n",
       "19      37\n",
       "20      40\n",
       "21      45\n",
       "22      50\n",
       "23      56\n",
       "24      35\n",
       "25      49\n",
       "26      46\n",
       "27      88\n",
       "28      61\n",
       "29      42\n",
       "      ... \n",
       "335    188\n",
       "336    176\n",
       "337    221\n",
       "338    225\n",
       "339    221\n",
       "340    202\n",
       "341    171\n",
       "342    185\n",
       "343    184\n",
       "344    276\n",
       "345    258\n",
       "346    219\n",
       "347    212\n",
       "348    192\n",
       "349    164\n",
       "350    192\n",
       "351    220\n",
       "352    196\n",
       "353    197\n",
       "354    204\n",
       "355    149\n",
       "356    156\n",
       "357    177\n",
       "358    210\n",
       "359    209\n",
       "360    231\n",
       "361    226\n",
       "362    155\n",
       "363    144\n",
       "364    172\n",
       "Name: Subscribers gained, Length: 365, dtype: int64"
      ]
     },
     "execution_count": 38,
     "metadata": {},
     "output_type": "execute_result"
    }
   ],
   "source": [
    "# With one col\n",
    "'''By default pandas will export the csv file as dataframe object and \n",
    "we have got to convert it in series using squeeze'''\n",
    "\n",
    "subs = pd.read_csv('./subs.csv', squeeze=True)\n",
    "subs"
   ]
  },
  {
   "cell_type": "code",
   "execution_count": 42,
   "metadata": {},
   "outputs": [
    {
     "data": {
      "text/plain": [
       "match_no\n",
       "1       1\n",
       "2      23\n",
       "3      13\n",
       "4      12\n",
       "5       1\n",
       "6       9\n",
       "7      34\n",
       "8       0\n",
       "9      21\n",
       "10      3\n",
       "11     10\n",
       "12     38\n",
       "13      3\n",
       "14     11\n",
       "15     50\n",
       "16      2\n",
       "17     22\n",
       "18     19\n",
       "19     16\n",
       "20     15\n",
       "21     20\n",
       "22     38\n",
       "23     19\n",
       "24     24\n",
       "25      7\n",
       "26      2\n",
       "27     16\n",
       "28     17\n",
       "29     24\n",
       "30     38\n",
       "       ..\n",
       "186    33\n",
       "187     5\n",
       "188    72\n",
       "189     8\n",
       "190    12\n",
       "191    35\n",
       "192     5\n",
       "193    25\n",
       "194     5\n",
       "195     4\n",
       "196    25\n",
       "197    51\n",
       "198    53\n",
       "199    39\n",
       "200    41\n",
       "201    12\n",
       "202     5\n",
       "203    48\n",
       "204     1\n",
       "205    12\n",
       "206     0\n",
       "207     0\n",
       "208     9\n",
       "209    58\n",
       "210    30\n",
       "211     0\n",
       "212    20\n",
       "213    73\n",
       "214    25\n",
       "215     7\n",
       "Name: runs, Length: 215, dtype: int64"
      ]
     },
     "execution_count": 42,
     "metadata": {},
     "output_type": "execute_result"
    }
   ],
   "source": [
    "#with 2 cols\n",
    "'''we have to use squeeze here as well and one more parameter, index_co\n",
    "to tell pandas which should be the index values'''\n",
    "\n",
    "vk = pd.read_csv('./kohli_ipl.csv', index_col = 'match_no', squeeze = True)\n",
    "vk"
   ]
  },
  {
   "cell_type": "code",
   "execution_count": 44,
   "metadata": {
    "scrolled": true
   },
   "outputs": [
    {
     "data": {
      "text/plain": [
       "movie\n",
       "Uri: The Surgical Strike                       Vicky Kaushal\n",
       "Battalion 609                                    Vicky Ahuja\n",
       "The Accidental Prime Minister (film)             Anupam Kher\n",
       "Why Cheat India                                Emraan Hashmi\n",
       "Evening Shadows                             Mona Ambegaonkar\n",
       "Soni (film)                             Geetika Vidya Ohlyan\n",
       "Fraud Saiyaan                                   Arshad Warsi\n",
       "Bombairiya                                      Radhika Apte\n",
       "Manikarnika: The Queen of Jhansi              Kangana Ranaut\n",
       "Thackeray (film)                         Nawazuddin Siddiqui\n",
       "Amavas                                             Ali Asgar\n",
       "Gully Boy                                      Ranveer Singh\n",
       "Hum Chaar                                        Prit Kamani\n",
       "Total Dhamaal                                     Ajay Devgn\n",
       "Sonchiriya                              Sushant Singh Rajput\n",
       "Badla (2019 film)                           Amitabh Bachchan\n",
       "Mard Ko Dard Nahi Hota                      Abhimanyu Dasani\n",
       "Hamid (film)                              Talha Arshad Reshi\n",
       "Photograph (film)                        Nawazuddin Siddiqui\n",
       "Risknamaa                                     Garima Agarwal\n",
       "Mere Pyare Prime Minister                      Rasika Agashe\n",
       "22 Yards                                         Barun Sobti\n",
       "Kesari (film)                                   Akshay Kumar\n",
       "Notebook (2019 film)                            Zaheer Iqbal\n",
       "Junglee (2019 film)                           Vidyut Jammwal\n",
       "Gone Kesh                                       Deepika Amin\n",
       "Albert Pinto Ko Gussa Kyun Aata Hai?              Manav Kaul\n",
       "The Tashkent Files                          Naseeruddin Shah\n",
       "Kalank                                          Varun Dhawan\n",
       "Setters (film)                               Shreyas Talpade\n",
       "                                                ...         \n",
       "Pinjar (film)                               Urmila Matondkar\n",
       "Mumbai Se Aaya Mera Dost                   Abhishek Bachchan\n",
       "Saaya (2003 film)                               John Abraham\n",
       "Samay: When Time Strikes                        Sushmita Sen\n",
       "Nayee Padosan                                 Vikas Kalantri\n",
       "Satta (film)                                  Raveena Tandon\n",
       "Sssshhh...                                  Tanishaa Mukerji\n",
       "Praan Jaye Par Shaan Na Jaye                  Raveena Tandon\n",
       "Raghu Romeo                                       Vijay Raaz\n",
       "Stumped (film)                                Raveena Tandon\n",
       "Rules: Pyaar Ka Superhit Formula                      Tanuja\n",
       "Right Here Right Now (film)                            Ankit\n",
       "Raja Bhaiya (film)                       Sadashiv Amrapurkar\n",
       "Tere Naam                                        Salman Khan\n",
       "Tujhe Meri Kasam                            Riteish Deshmukh\n",
       "Talaash: The Hunt Begins...                    Rakhee Gulzar\n",
       "Tehzeeb (2003 film)                             Shabana Azmi\n",
       "The Pink Mirror                              Edwin Fernandes\n",
       "Yeh Dil                                       Tusshar Kapoor\n",
       "Xcuse Me                                       Sharman Joshi\n",
       "Raaz (2002 film)                                  Dino Morea\n",
       "Zameen (2003 film)                                Ajay Devgn\n",
       "Waisa Bhi Hota Hai Part II                      Arshad Warsi\n",
       "Devdas (2002 Hindi film)                      Shah Rukh Khan\n",
       "Kaante                                      Amitabh Bachchan\n",
       "Hum Tumhare Hain Sanam                        Shah Rukh Khan\n",
       "Aankhen (2002 film)                         Amitabh Bachchan\n",
       "Saathiya (film)                                 Vivek Oberoi\n",
       "Company (film)                                    Ajay Devgn\n",
       "Awara Paagal Deewana                            Akshay Kumar\n",
       "Name: lead, Length: 1500, dtype: object"
      ]
     },
     "execution_count": 44,
     "metadata": {},
     "output_type": "execute_result"
    }
   ],
   "source": [
    "movies = pd.read_csv('./bollywood.csv', index_col='movie', squeeze = True)\n",
    "movies"
   ]
  },
  {
   "cell_type": "markdown",
   "metadata": {},
   "source": [
    "# Series Methods"
   ]
  },
  {
   "cell_type": "code",
   "execution_count": 54,
   "metadata": {},
   "outputs": [
    {
     "data": {
      "text/plain": [
       "0    48\n",
       "1    57\n",
       "2    40\n",
       "3    43\n",
       "4    44\n",
       "Name: Subscribers gained, dtype: int64"
      ]
     },
     "execution_count": 54,
     "metadata": {},
     "output_type": "execute_result"
    }
   ],
   "source": [
    "# head and tail\n",
    "\n",
    "#It is used to have a look of how data looks like \n",
    "#so on calling head it will show 5 values by default and\n",
    "#you can mention how many values you want to see manually'''\n",
    "\n",
    "subs.head() "
   ]
  },
  {
   "cell_type": "code",
   "execution_count": 55,
   "metadata": {},
   "outputs": [
    {
     "data": {
      "text/plain": [
       "match_no\n",
       "1     1\n",
       "2    23\n",
       "Name: runs, dtype: int64"
      ]
     },
     "execution_count": 55,
     "metadata": {},
     "output_type": "execute_result"
    }
   ],
   "source": [
    "vk.head(2)"
   ]
  },
  {
   "cell_type": "code",
   "execution_count": 57,
   "metadata": {},
   "outputs": [
    {
     "data": {
      "text/plain": [
       "match_no\n",
       "206     0\n",
       "207     0\n",
       "208     9\n",
       "209    58\n",
       "210    30\n",
       "211     0\n",
       "212    20\n",
       "213    73\n",
       "214    25\n",
       "215     7\n",
       "Name: runs, dtype: int64"
      ]
     },
     "execution_count": 57,
     "metadata": {},
     "output_type": "execute_result"
    }
   ],
   "source": [
    "# tail shows the last 5 values by default\n",
    "vk.tail()\n",
    "vk.tail(10)"
   ]
  },
  {
   "cell_type": "code",
   "execution_count": 61,
   "metadata": {},
   "outputs": [
    {
     "data": {
      "text/plain": [
       "movie\n",
       "I Am (2010 Indian film)           Juhi Chawla\n",
       "Baabul (2006 film)           Amitabh Bachchan\n",
       "Matrubhoomi                       Tulip Joshi\n",
       "Koi Aap Sa                   Aftab Shivdasani\n",
       "Aap Ki Khatir (2006 film)      Akshaye Khanna\n",
       "Name: lead, dtype: object"
      ]
     },
     "execution_count": 61,
     "metadata": {},
     "output_type": "execute_result"
    }
   ],
   "source": [
    "# Sample\n",
    "'''This picks any row in the dataset randomly! '''\n",
    "\n",
    "movies.sample()\n",
    "movies.sample(5)"
   ]
  },
  {
   "cell_type": "code",
   "execution_count": 63,
   "metadata": {},
   "outputs": [
    {
     "data": {
      "text/plain": [
       "Akshay Kumar           48\n",
       "Amitabh Bachchan       45\n",
       "Ajay Devgn             38\n",
       "Salman Khan            31\n",
       "Sanjay Dutt            26\n",
       "Shah Rukh Khan         22\n",
       "Emraan Hashmi          21\n",
       "John Abraham           18\n",
       "Saif Ali Khan          18\n",
       "Shahid Kapoor          17\n",
       "Sunny Deol             17\n",
       "Tusshar Kapoor         16\n",
       "Jimmy Sheirgill        16\n",
       "Arjun Rampal           14\n",
       "Irrfan Khan            14\n",
       "Manoj Bajpayee         14\n",
       "Anupam Kher            13\n",
       "Hrithik Roshan         12\n",
       "Kangana Ranaut         12\n",
       "Ayushmann Khurrana     12\n",
       "Naseeruddin Shah       12\n",
       "Rajkummar Rao          11\n",
       "Vinay Pathak           11\n",
       "Anil Kapoor            11\n",
       "Ranbir Kapoor          11\n",
       "Nawazuddin Siddiqui    11\n",
       "Kay Kay Menon          11\n",
       "Rishi Kapoor           11\n",
       "Aftab Shivdasani       11\n",
       "Abhishek Bachchan      10\n",
       "                       ..\n",
       "Rajat Barmecha          1\n",
       "Julia Datt              1\n",
       "Raj Tara                1\n",
       "Amar Upadhyaya          1\n",
       "Waheeda Rehman          1\n",
       "Hemant Gopal            1\n",
       "Sooraj Balaji           1\n",
       "Vijay Varma             1\n",
       "Himanshu Bhatt          1\n",
       "Aadar Jain              1\n",
       "Krishna Chaturvedi      1\n",
       "Rahul Jaiswal           1\n",
       "Danny Denzongpa         1\n",
       "RJ Balaji               1\n",
       "Diljit Dosanjh          1\n",
       "Avinash Dhyani          1\n",
       "Lewis Tan               1\n",
       "Parveen Kaur            1\n",
       "Shaurya Singh           1\n",
       "Partho A. Gupte         1\n",
       "Imaaduddin Shah         1\n",
       "V. Ravichandran         1\n",
       "Vikram Dasu             1\n",
       "Shikhi Gupta            1\n",
       "Dimple Kapadia          1\n",
       "Nandita Das             1\n",
       "Naman Jain              1\n",
       "Aisha Ahmed             1\n",
       "Mikaal                  1\n",
       "Jayesh Raj              1\n",
       "Name: lead, Length: 566, dtype: int64"
      ]
     },
     "execution_count": 63,
     "metadata": {},
     "output_type": "execute_result"
    }
   ],
   "source": [
    "# value_counts => movies\n",
    "'''Will show the frequency of values'''\n",
    "movies.value_counts() # how many movies each has done"
   ]
  },
  {
   "cell_type": "code",
   "execution_count": 73,
   "metadata": {},
   "outputs": [
    {
     "data": {
      "text/plain": [
       "113"
      ]
     },
     "execution_count": 73,
     "metadata": {},
     "output_type": "execute_result"
    }
   ],
   "source": [
    "# sort_values\n",
    "'''will sort the values in ascending order from lowest to highest by default'''\n",
    "\n",
    "vk.sort_values(ascending=False).head(1).values[0]"
   ]
  },
  {
   "cell_type": "code",
   "execution_count": 75,
   "metadata": {},
   "outputs": [
    {
     "data": {
      "text/plain": [
       "movie\n",
       "Qaidi Band                                 Aadar Jain\n",
       "Roar: Tigers of the Sundarbans           Aadil Chahal\n",
       "Lipstick Under My Burkha                 Aahana Kumra\n",
       "Raat Gayi Baat Gayi?                     Aamir Bashir\n",
       "Talaash: The Answer Lies Within            Aamir Khan\n",
       "Fanaa (2006 film)                          Aamir Khan\n",
       "3 Idiots                                   Aamir Khan\n",
       "Ghajini (2008 film)                        Aamir Khan\n",
       "Rang De Basanti                            Aamir Khan\n",
       "Mangal Pandey: The Rising                  Aamir Khan\n",
       "Dangal (film)                              Aamir Khan\n",
       "Dhoom 3                                    Aamir Khan\n",
       "Thugs of Hindostan                         Aamir Khan\n",
       "PK (film)                                  Aamir Khan\n",
       "Buddha in a Traffic Jam               Aanchal Dwivedi\n",
       "Chillar Party                            Aarav Khanna\n",
       "Ssukh                                  Aarti Chhabria\n",
       "Umrika                                  Aashish Bhatt\n",
       "One by Two (2014 film)                     Abhay Deol\n",
       "Nanu Ki Jaanu                              Abhay Deol\n",
       "Oye Lucky! Lucky Oye!                      Abhay Deol\n",
       "Manorama Six Feet Under                    Abhay Deol\n",
       "Socha Na Tha                               Abhay Deol\n",
       "Ahista Ahista (2006 film)                  Abhay Deol\n",
       "Ek Chalis Ki Last Local                    Abhay Deol\n",
       "Mard Ko Dard Nahi Hota               Abhimanyu Dasani\n",
       "Dum Maaro Dum (film)                Abhishek Bachchan\n",
       "Game (2011 film)                    Abhishek Bachchan\n",
       "Dostana (2008 film)                 Abhishek Bachchan\n",
       "Dhoom                               Abhishek Bachchan\n",
       "                                          ...        \n",
       "Kisna: The Warrior Poet                  Vivek Oberoi\n",
       "Prince (2010 film)                       Vivek Oberoi\n",
       "Grand Masti                              Vivek Oberoi\n",
       "Dum (2003 Hindi film)                    Vivek Oberoi\n",
       "Mission Istaanbul                        Vivek Oberoi\n",
       "Kismat Love Paisa Dilli                  Vivek Oberoi\n",
       "Saathiya (film)                          Vivek Oberoi\n",
       "Zila Ghaziabad                           Vivek Oberoi\n",
       "Jayantabhai Ki Luv Story                 Vivek Oberoi\n",
       "Impatient Vivek                       Vivek Sudershan\n",
       "Delhi-6                                Waheeda Rehman\n",
       "Sixteen (2013 Indian film)               Wamiqa Gabbi\n",
       "Mere Genie Uncle                         Yash Acharya\n",
       "Days of Tafree                              Yash Soni\n",
       "Aisa Yeh Jahaan                        Yashpal Sharma\n",
       "Daas Dev                            Yogesh Raj Mishra\n",
       "Arjun: The Warrior Prince           Yudhveer Bakoliya\n",
       "Notebook (2019 film)                     Zaheer Iqbal\n",
       "Secret Superstar                          Zaira Wasim\n",
       "The Sky Is Pink                           Zaira Wasim\n",
       "Honour Killing (film)                     Zara Sheikh\n",
       "Aksar 2                                   Zareen Khan\n",
       "Chura Liyaa Hai Tumne                      Zayed Khan\n",
       "Love Breakups Zindagi                      Zayed Khan\n",
       "Sharafat Gayi Tel Lene                     Zayed Khan\n",
       "Dil Toh Deewana Hai                       Zeenat Aman\n",
       "Sallu Ki Shaadi                           Zeenat Aman\n",
       "Strings of Passion                        Zeenat Aman\n",
       "Dunno Y... Na Jaane Kyon                  Zeenat Aman\n",
       "Taj Mahal: An Eternal Love Story          Zulfi Sayed\n",
       "Name: lead, Length: 1500, dtype: object"
      ]
     },
     "execution_count": 75,
     "metadata": {},
     "output_type": "execute_result"
    }
   ],
   "source": [
    "movies.sort_values()"
   ]
  },
  {
   "cell_type": "markdown",
   "metadata": {},
   "source": [
    "# Series Maths Methods"
   ]
  },
  {
   "cell_type": "code",
   "execution_count": 80,
   "metadata": {},
   "outputs": [
    {
     "data": {
      "text/plain": [
       "215"
      ]
     },
     "execution_count": 80,
     "metadata": {},
     "output_type": "execute_result"
    }
   ],
   "source": [
    "# count\n",
    "'''gives the number of items in a dataset\n",
    "but it is different from size bcs, count \n",
    "does not counts the missing values'''\n",
    "\n",
    "\n",
    "vk.count()\n"
   ]
  },
  {
   "cell_type": "code",
   "execution_count": 83,
   "metadata": {},
   "outputs": [
    {
     "data": {
      "text/plain": [
       "49510"
      ]
     },
     "execution_count": 83,
     "metadata": {},
     "output_type": "execute_result"
    }
   ],
   "source": [
    "# sum -> product\n",
    "subs.sum() # sum of all the valus"
   ]
  },
  {
   "cell_type": "code",
   "execution_count": 89,
   "metadata": {},
   "outputs": [
    {
     "name": "stdout",
     "output_type": "stream",
     "text": [
      "0    Akshay Kumar\n",
      "dtype: object\n",
      "62.67502303725269\n",
      "688.0024777222344\n"
     ]
    }
   ],
   "source": [
    "# mean -> median -> mode -> std -> var\n",
    "subs.mean()\n",
    "vk.median()\n",
    "print(movies.mode()) # the value that has beem repeated the most number of times\n",
    "print(subs.std())\n",
    "print(vk.var())"
   ]
  },
  {
   "cell_type": "code",
   "execution_count": 92,
   "metadata": {},
   "outputs": [
    {
     "data": {
      "text/plain": [
       "396"
      ]
     },
     "execution_count": 92,
     "metadata": {},
     "output_type": "execute_result"
    }
   ],
   "source": [
    "# min/max\n",
    "subs.max()"
   ]
  },
  {
   "cell_type": "code",
   "execution_count": 94,
   "metadata": {},
   "outputs": [
    {
     "data": {
      "text/plain": [
       "count    365.000000\n",
       "mean     135.643836\n",
       "std       62.675023\n",
       "min       33.000000\n",
       "25%       88.000000\n",
       "50%      123.000000\n",
       "75%      177.000000\n",
       "max      396.000000\n",
       "Name: Subscribers gained, dtype: float64"
      ]
     },
     "execution_count": 94,
     "metadata": {},
     "output_type": "execute_result"
    }
   ],
   "source": [
    "# describe\n",
    "'''provides a summary'''\n",
    "subs.describe()"
   ]
  },
  {
   "cell_type": "markdown",
   "metadata": {},
   "source": [
    "# Series Indexing\n"
   ]
  },
  {
   "cell_type": "code",
   "execution_count": 99,
   "metadata": {},
   "outputs": [
    {
     "data": {
      "text/plain": [
       "8"
      ]
     },
     "execution_count": 99,
     "metadata": {},
     "output_type": "execute_result"
    }
   ],
   "source": [
    "# Integer indexing\n",
    "x = pd.Series([1,2,3,4,5,6,7,8])\n",
    "x[7]"
   ]
  },
  {
   "cell_type": "code",
   "execution_count": 112,
   "metadata": {},
   "outputs": [
    {
     "data": {
      "text/plain": [
       "'Vicky Ahuja'"
      ]
     },
     "execution_count": 112,
     "metadata": {},
     "output_type": "execute_result"
    }
   ],
   "source": [
    "movies\n",
    "movies[1]"
   ]
  },
  {
   "cell_type": "code",
   "execution_count": 113,
   "metadata": {},
   "outputs": [
    {
     "data": {
      "text/plain": [
       "match_no\n",
       "6      9\n",
       "7     34\n",
       "8      0\n",
       "9     21\n",
       "10     3\n",
       "11    10\n",
       "12    38\n",
       "13     3\n",
       "14    11\n",
       "15    50\n",
       "16     2\n",
       "Name: runs, dtype: int64"
      ]
     },
     "execution_count": 113,
     "metadata": {},
     "output_type": "execute_result"
    }
   ],
   "source": [
    "# slicing\n",
    "vk[5 : 16]"
   ]
  },
  {
   "cell_type": "code",
   "execution_count": 114,
   "metadata": {},
   "outputs": [
    {
     "data": {
      "text/plain": [
       "match_no\n",
       "1    1\n",
       "8    0\n",
       "6    9\n",
       "Name: runs, dtype: int64"
      ]
     },
     "execution_count": 114,
     "metadata": {},
     "output_type": "execute_result"
    }
   ],
   "source": [
    "# fancy slicing\n",
    "vk[[1,8,6]]"
   ]
  },
  {
   "cell_type": "code",
   "execution_count": 117,
   "metadata": {},
   "outputs": [
    {
     "data": {
      "text/plain": [
       "'Emraan Hashmi'"
      ]
     },
     "execution_count": 117,
     "metadata": {},
     "output_type": "execute_result"
    }
   ],
   "source": [
    "# indexing with labels \n",
    "movies['Why Cheat India']"
   ]
  },
  {
   "cell_type": "markdown",
   "metadata": {},
   "source": [
    "# Editing Series"
   ]
  },
  {
   "cell_type": "code",
   "execution_count": 121,
   "metadata": {},
   "outputs": [
    {
     "data": {
      "text/plain": [
       "maths       67\n",
       "science    100\n",
       "hindi       55\n",
       "stats       88\n",
       "Name: Akshat k marks, dtype: int64"
      ]
     },
     "execution_count": 121,
     "metadata": {},
     "output_type": "execute_result"
    }
   ],
   "source": [
    "# using indexing\n",
    "marks_series[1] = 100\n",
    "marks_series"
   ]
  },
  {
   "cell_type": "code",
   "execution_count": 123,
   "metadata": {},
   "outputs": [
    {
     "data": {
      "text/plain": [
       "maths       67\n",
       "science    100\n",
       "hindi       55\n",
       "stats       88\n",
       "sst         90\n",
       "Name: Akshat k marks, dtype: int64"
      ]
     },
     "execution_count": 123,
     "metadata": {},
     "output_type": "execute_result"
    }
   ],
   "source": [
    "# what if an index does not exist\n",
    "\n",
    "marks_series['sst'] = 90\n",
    "marks_series"
   ]
  },
  {
   "cell_type": "code",
   "execution_count": 125,
   "metadata": {},
   "outputs": [
    {
     "data": {
      "text/plain": [
       "0     13\n",
       "1     24\n",
       "2    100\n",
       "3    100\n",
       "4    100\n",
       "dtype: int64"
      ]
     },
     "execution_count": 125,
     "metadata": {},
     "output_type": "execute_result"
    }
   ],
   "source": [
    "# slicing\n",
    "runs_ser[2:4] = [100, 100]\n",
    "runs_ser\n"
   ]
  },
  {
   "cell_type": "code",
   "execution_count": 126,
   "metadata": {},
   "outputs": [
    {
     "data": {
      "text/plain": [
       "0      0\n",
       "1     24\n",
       "2    100\n",
       "3      0\n",
       "4      0\n",
       "dtype: int64"
      ]
     },
     "execution_count": 126,
     "metadata": {},
     "output_type": "execute_result"
    }
   ],
   "source": [
    "# fancy indexing\n",
    "runs_ser[[0,3,4]] = [0,0,0]\n",
    "runs_ser"
   ]
  },
  {
   "cell_type": "markdown",
   "metadata": {},
   "source": [
    "# Series with Python functionalities"
   ]
  },
  {
   "cell_type": "code",
   "execution_count": 132,
   "metadata": {},
   "outputs": [
    {
     "name": "stdout",
     "output_type": "stream",
     "text": [
      "365\n",
      "<class 'pandas.core.series.Series'>\n",
      "[33, 33, 35, 37, 39, 40, 40, 40, 40, 42, 42, 43, 44, 44, 44, 45, 46, 46, 48, 49, 49, 49, 49, 50, 50, 50, 51, 54, 56, 56, 56, 56, 57, 61, 62, 64, 65, 65, 66, 66, 66, 66, 67, 68, 70, 70, 70, 71, 71, 72, 72, 72, 72, 72, 73, 74, 74, 75, 76, 76, 76, 76, 77, 77, 78, 78, 78, 79, 79, 80, 80, 80, 81, 81, 82, 82, 83, 83, 83, 84, 84, 84, 85, 86, 86, 86, 87, 87, 87, 87, 88, 88, 88, 88, 88, 89, 89, 89, 90, 90, 90, 90, 91, 92, 92, 92, 93, 93, 93, 93, 95, 95, 96, 96, 96, 96, 97, 97, 98, 98, 99, 99, 100, 100, 100, 101, 101, 101, 102, 102, 103, 103, 104, 104, 104, 105, 105, 105, 105, 105, 105, 105, 105, 105, 108, 108, 108, 108, 108, 108, 109, 109, 110, 110, 110, 111, 111, 112, 113, 113, 113, 114, 114, 114, 114, 115, 115, 115, 115, 117, 117, 117, 118, 118, 119, 119, 119, 119, 120, 122, 123, 123, 123, 123, 123, 124, 125, 126, 127, 128, 128, 129, 130, 131, 131, 132, 132, 134, 134, 134, 135, 135, 136, 136, 136, 137, 138, 138, 138, 139, 140, 144, 145, 146, 146, 146, 146, 147, 149, 150, 150, 150, 150, 151, 152, 152, 152, 153, 153, 153, 154, 154, 154, 155, 155, 156, 156, 156, 156, 157, 157, 157, 157, 158, 158, 159, 159, 160, 160, 160, 160, 162, 164, 166, 167, 167, 168, 170, 170, 170, 170, 171, 172, 172, 173, 173, 173, 174, 174, 175, 175, 176, 176, 177, 178, 179, 179, 180, 180, 180, 182, 183, 183, 183, 184, 184, 184, 185, 185, 185, 185, 186, 186, 186, 188, 189, 190, 190, 192, 192, 192, 196, 196, 196, 197, 197, 202, 202, 202, 203, 204, 206, 207, 209, 210, 210, 211, 212, 213, 214, 216, 219, 220, 221, 221, 222, 222, 224, 225, 225, 226, 227, 228, 229, 230, 231, 233, 236, 236, 237, 241, 243, 244, 245, 247, 249, 254, 254, 258, 259, 259, 261, 261, 265, 267, 268, 269, 276, 276, 290, 295, 301, 306, 312, 396]\n"
     ]
    }
   ],
   "source": [
    "# len/type/dir/sorted/max/min\n",
    "print(len(subs))\n",
    "print(type(subs))\n",
    "\n",
    "print(sorted(subs))"
   ]
  },
  {
   "cell_type": "code",
   "execution_count": 135,
   "metadata": {},
   "outputs": [
    {
     "data": {
      "text/plain": [
       "{'maths': 67, 'science': 100, 'hindi': 55, 'stats': 88, 'sst': 90}"
      ]
     },
     "execution_count": 135,
     "metadata": {},
     "output_type": "execute_result"
    }
   ],
   "source": [
    "# type conversion\n",
    "list(marks_series)\n",
    "dict(marks_series)"
   ]
  },
  {
   "cell_type": "code",
   "execution_count": 138,
   "metadata": {},
   "outputs": [
    {
     "data": {
      "text/plain": [
       "maths      33\n",
       "science     0\n",
       "hindi      45\n",
       "stats      12\n",
       "sst        10\n",
       "Name: Akshat k marks, dtype: int64"
      ]
     },
     "execution_count": 138,
     "metadata": {},
     "output_type": "execute_result"
    }
   ],
   "source": [
    "#airthmetic operator\n",
    "100 - marks_series"
   ]
  },
  {
   "cell_type": "code",
   "execution_count": 140,
   "metadata": {},
   "outputs": [
    {
     "data": {
      "text/plain": [
       "match_no\n",
       "1      False\n",
       "2      False\n",
       "3      False\n",
       "4      False\n",
       "5      False\n",
       "6      False\n",
       "7      False\n",
       "8      False\n",
       "9      False\n",
       "10     False\n",
       "11     False\n",
       "12     False\n",
       "13     False\n",
       "14     False\n",
       "15      True\n",
       "16     False\n",
       "17     False\n",
       "18     False\n",
       "19     False\n",
       "20     False\n",
       "21     False\n",
       "22     False\n",
       "23     False\n",
       "24     False\n",
       "25     False\n",
       "26     False\n",
       "27     False\n",
       "28     False\n",
       "29     False\n",
       "30     False\n",
       "       ...  \n",
       "186    False\n",
       "187    False\n",
       "188     True\n",
       "189    False\n",
       "190    False\n",
       "191    False\n",
       "192    False\n",
       "193    False\n",
       "194    False\n",
       "195    False\n",
       "196    False\n",
       "197     True\n",
       "198     True\n",
       "199    False\n",
       "200    False\n",
       "201    False\n",
       "202    False\n",
       "203    False\n",
       "204    False\n",
       "205    False\n",
       "206    False\n",
       "207    False\n",
       "208    False\n",
       "209     True\n",
       "210    False\n",
       "211    False\n",
       "212    False\n",
       "213     True\n",
       "214    False\n",
       "215    False\n",
       "Name: runs, Length: 215, dtype: bool"
      ]
     },
     "execution_count": 140,
     "metadata": {},
     "output_type": "execute_result"
    }
   ],
   "source": [
    "# Relational Operators\n",
    "\n",
    "vk >= 50"
   ]
  },
  {
   "cell_type": "markdown",
   "metadata": {},
   "source": [
    "# Boolean Indexing on Series"
   ]
  },
  {
   "cell_type": "code",
   "execution_count": 142,
   "metadata": {},
   "outputs": [
    {
     "data": {
      "text/plain": [
       "50"
      ]
     },
     "execution_count": 142,
     "metadata": {},
     "output_type": "execute_result"
    }
   ],
   "source": [
    "# Find number of 50s and 100 scored by kohli\n",
    "vk[vk >= 50].size"
   ]
  },
  {
   "cell_type": "code",
   "execution_count": 144,
   "metadata": {},
   "outputs": [
    {
     "data": {
      "text/plain": [
       "9"
      ]
     },
     "execution_count": 144,
     "metadata": {},
     "output_type": "execute_result"
    }
   ],
   "source": [
    "# find number of ducks\n",
    "vk[vk==0].size"
   ]
  },
  {
   "cell_type": "code",
   "execution_count": 147,
   "metadata": {},
   "outputs": [
    {
     "data": {
      "text/plain": [
       "59"
      ]
     },
     "execution_count": 147,
     "metadata": {},
     "output_type": "execute_result"
    }
   ],
   "source": [
    "# Count the number of day when he had more than 200 subs in a day\n",
    "subs[subs > 200].size"
   ]
  },
  {
   "cell_type": "code",
   "execution_count": 155,
   "metadata": {},
   "outputs": [
    {
     "data": {
      "text/plain": [
       "Akshay Kumar        48\n",
       "Amitabh Bachchan    45\n",
       "Ajay Devgn          38\n",
       "Salman Khan         31\n",
       "Sanjay Dutt         26\n",
       "Shah Rukh Khan      22\n",
       "Emraan Hashmi       21\n",
       "Name: lead, dtype: int64"
      ]
     },
     "execution_count": 155,
     "metadata": {},
     "output_type": "execute_result"
    }
   ],
   "source": [
    "# find actors who have done more than 20 movies\n",
    "\n",
    "num_movies = movies.value_counts()\n",
    "num_movies [num_movies > 20]\n"
   ]
  },
  {
   "cell_type": "markdown",
   "metadata": {},
   "source": [
    "# Plotting Graphs on Series"
   ]
  },
  {
   "cell_type": "code",
   "execution_count": 158,
   "metadata": {},
   "outputs": [
    {
     "data": {
      "text/plain": [
       "<matplotlib.axes._subplots.AxesSubplot at 0x7f5ef0515630>"
      ]
     },
     "execution_count": 158,
     "metadata": {},
     "output_type": "execute_result"
    },
    {
     "data": {
      "image/png": "[encoded data removed]",
      "text/plain": [
       "<Figure size 432x288 with 1 Axes>"
      ]
     },
     "metadata": {
      "needs_background": "light"
     },
     "output_type": "display_data"
    }
   ],
   "source": [
    "subs.plot()"
   ]
  },
  {
   "cell_type": "code",
   "execution_count": 165,
   "metadata": {},
   "outputs": [
    {
     "data": {
      "text/plain": [
       "<matplotlib.axes._subplots.AxesSubplot at 0x7f5ef0466b00>"
      ]
     },
     "execution_count": 165,
     "metadata": {},
     "output_type": "execute_result"
    },
    {
     "data": {
      "image/png": "[encoded data removed]",
      "text/plain": [
       "<Figure size 432x288 with 1 Axes>"
      ]
     },
     "metadata": {},
     "output_type": "display_data"
    }
   ],
   "source": [
    "movies.value_counts().head(20).plot(kind=\"pie\")"
   ]
  },
  {
   "cell_type": "code",
   "execution_count": null,
   "metadata": {},
   "outputs": [],
   "source": []
  }
 ],
 "metadata": {
  "kernelspec": {
   "display_name": "Python 3",
   "language": "python",
   "name": "python3"
  },
  "language_info": {
   "codemirror_mode": {
    "name": "ipython",
    "version": 3
   },
   "file_extension": ".py",
   "mimetype": "text/x-python",
   "name": "python",
   "nbconvert_exporter": "python",
   "pygments_lexer": "ipython3",
   "version": "3.7.0"
  }
 },
 "nbformat": 4,
 "nbformat_minor": 2
}
